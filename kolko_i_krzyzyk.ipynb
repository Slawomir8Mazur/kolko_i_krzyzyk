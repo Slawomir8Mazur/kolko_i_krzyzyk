{
 "cells": [
  {
   "cell_type": "code",
   "execution_count": 1,
   "metadata": {},
   "outputs": [],
   "source": [
    "import numpy as np\n",
    "import pandas as pd"
   ]
  },
  {
   "cell_type": "code",
   "execution_count": 11,
   "metadata": {},
   "outputs": [],
   "source": [
    "def new_board(size = (3,3)):\n",
    "    State = np.empty(size, dtype=np.float16)\n",
    "    State[:,:] = np.nan\n",
    "    return State"
   ]
  },
  {
   "cell_type": "code",
   "execution_count": 20,
   "metadata": {},
   "outputs": [],
   "source": [
    "def make_rand_move(arr, value):\n",
    "    if not np.isnan(arr).any():\n",
    "        print('No moves avaible')\n",
    "        return 1\n",
    "    else:\n",
    "        while True:\n",
    "            x = np.random.randint(3)\n",
    "            y = np.random.randint(3)\n",
    "            if np.isnan(arr[y,x]):\n",
    "                break\n",
    "        arr[y,x] = np.float16(value)\n",
    "        return 0"
   ]
  },
  {
   "cell_type": "code",
   "execution_count": 16,
   "metadata": {},
   "outputs": [],
   "source": [
    "def is_win(arr, value):\n",
    "    horizontally = np.all(arr == value, axis=1)\n",
    "    vertically = np.all(arr == value, axis=0)\n",
    "    diagon_1 = np.all(arr[(0,1,2), (0,1,2)] == value)\n",
    "    diagon_2 = np.all(arr[(0,1,2), (2,1,0)].all == value)\n",
    "    if True in (horizontally.any(),\n",
    "                vertically.any(),\n",
    "                diagon_1,\n",
    "                diagon_2):\n",
    "        return True\n",
    "    else:\n",
    "        return False"
   ]
  },
  {
   "cell_type": "code",
   "execution_count": 7,
   "metadata": {},
   "outputs": [],
   "source": [
    "def r(arr, who_am_I):\n",
    "    oponent = np.abs(who_am_I - 1)\n",
    "    if is_win(arr, who_am_I):\n",
    "        return 1\n",
    "    if is_win(arr, oponent):\n",
    "        return 0\n",
    "    else:\n",
    "        return 0.5"
   ]
  },
  {
   "cell_type": "code",
   "execution_count": 69,
   "metadata": {},
   "outputs": [],
   "source": [
    "def show_state_wrapper(func_name):\n",
    "    def inner_func(who_am_I):\n",
    "        print(r(State, 1))\n",
    "        return func_name(who_am_I)\n",
    "    return inner_func\n",
    "\n",
    "@show_state_wrapper\n",
    "def play(who_am_I):\n",
    "    oponent = np.abs(who_am_I - 1)\n",
    "    State = new_board()\n",
    "    while True:\n",
    "        if make_rand_move(State, who_am_I):\n",
    "            break\n",
    "        if make_rand_move(State, oponent):\n",
    "            break\n",
    "        yield State"
   ]
  },
  {
   "cell_type": "code",
   "execution_count": 21,
   "metadata": {},
   "outputs": [
    {
     "name": "stdout",
     "output_type": "stream",
     "text": [
      "0.5\n",
      "[[ 1. nan nan]\n",
      " [nan  0. nan]\n",
      " [nan nan nan]]\n",
      "\n",
      "0.5\n",
      "[[ 1.  0.  1.]\n",
      " [nan  0. nan]\n",
      " [nan nan nan]]\n",
      "\n",
      "0.5\n",
      "[[ 1.  0.  1.]\n",
      " [nan  0. nan]\n",
      " [ 0.  1. nan]]\n",
      "\n",
      "0.5\n",
      "[[ 1.  0.  1.]\n",
      " [nan  0.  1.]\n",
      " [ 0.  1.  0.]]\n",
      "\n",
      "No moves avaible\n",
      "0.5\n",
      "[[1. 0. 1.]\n",
      " [1. 0. 1.]\n",
      " [0. 1. 0.]]\n",
      "\n"
     ]
    }
   ],
   "source": [
    "State = new_board()\n",
    "for i in range(5):\n",
    "    make_rand_move(State, 1)\n",
    "    make_rand_move(State, 0)\n",
    "    print(r(State, 1))\n",
    "    print(State, end='\\n\\n')"
   ]
  },
  {
   "cell_type": "code",
   "execution_count": 14,
   "metadata": {},
   "outputs": [],
   "source": [
    "make_rand_move(State, 1)"
   ]
  },
  {
   "cell_type": "code",
   "execution_count": 50,
   "metadata": {},
   "outputs": [
    {
     "name": "stdout",
     "output_type": "stream",
     "text": [
      "[ True False False]\n"
     ]
    }
   ],
   "source": [
    "temp = State[(0,1,2), (0,1,0)] == 1\n",
    "temp2 = temp[:2]\n",
    "temp2\n",
    "if True in (temp.any(), temp2.any()):\n",
    "    print(temp)"
   ]
  },
  {
   "cell_type": "code",
   "execution_count": 32,
   "metadata": {},
   "outputs": [
    {
     "data": {
      "text/plain": [
       "array([1., 1.], dtype=float16)"
      ]
     },
     "execution_count": 32,
     "metadata": {},
     "output_type": "execute_result"
    }
   ],
   "source": [
    "State[(2), (0,2)]"
   ]
  },
  {
   "cell_type": "code",
   "execution_count": 74,
   "metadata": {},
   "outputs": [
    {
     "data": {
      "text/plain": [
       "array([False, False, False])"
      ]
     },
     "execution_count": 74,
     "metadata": {},
     "output_type": "execute_result"
    }
   ],
   "source": [
    "np.all(State == 1, axis=0)"
   ]
  },
  {
   "cell_type": "code",
   "execution_count": 12,
   "metadata": {},
   "outputs": [
    {
     "data": {
      "text/plain": [
       "array([[nan, nan, nan],\n",
       "       [nan, nan, nan],\n",
       "       [nan, nan, nan]], dtype=float16)"
      ]
     },
     "execution_count": 12,
     "metadata": {},
     "output_type": "execute_result"
    }
   ],
   "source": [
    "new_board()"
   ]
  },
  {
   "cell_type": "code",
   "execution_count": 70,
   "metadata": {},
   "outputs": [
    {
     "name": "stdout",
     "output_type": "stream",
     "text": [
      "0.5\n"
     ]
    }
   ],
   "source": [
    "p = play(1)"
   ]
  },
  {
   "cell_type": "code",
   "execution_count": 76,
   "metadata": {},
   "outputs": [
    {
     "ename": "StopIteration",
     "evalue": "",
     "output_type": "error",
     "traceback": [
      "\u001b[1;31m---------------------------------------------------------------------------\u001b[0m",
      "\u001b[1;31mStopIteration\u001b[0m                             Traceback (most recent call last)",
      "\u001b[1;32m<ipython-input-76-11307215aa20>\u001b[0m in \u001b[0;36m<module>\u001b[1;34m()\u001b[0m\n\u001b[1;32m----> 1\u001b[1;33m \u001b[0mprint\u001b[0m\u001b[1;33m(\u001b[0m\u001b[0mnext\u001b[0m\u001b[1;33m(\u001b[0m\u001b[0mp\u001b[0m\u001b[1;33m)\u001b[0m\u001b[1;33m)\u001b[0m\u001b[1;33m\u001b[0m\u001b[0m\n\u001b[0m",
      "\u001b[1;31mStopIteration\u001b[0m: "
     ]
    }
   ],
   "source": [
    "print(next(p))"
   ]
  },
  {
   "cell_type": "code",
   "execution_count": 43,
   "metadata": {},
   "outputs": [],
   "source": [
    "def temp(number):\n",
    "    while True:\n",
    "        number += 1\n",
    "        yield number\n",
    "        if number==10:\n",
    "            break"
   ]
  },
  {
   "cell_type": "code",
   "execution_count": 48,
   "metadata": {},
   "outputs": [],
   "source": [
    "t = temp(3)"
   ]
  },
  {
   "cell_type": "code",
   "execution_count": 53,
   "metadata": {},
   "outputs": [
    {
     "data": {
      "text/plain": [
       "7"
      ]
     },
     "execution_count": 53,
     "metadata": {},
     "output_type": "execute_result"
    }
   ],
   "source": [
    "next(t)"
   ]
  },
  {
   "cell_type": "code",
   "execution_count": null,
   "metadata": {},
   "outputs": [],
   "source": []
  }
 ],
 "metadata": {
  "kernelspec": {
   "display_name": "Python 3",
   "language": "python",
   "name": "python3"
  },
  "language_info": {
   "codemirror_mode": {
    "name": "ipython",
    "version": 3
   },
   "file_extension": ".py",
   "mimetype": "text/x-python",
   "name": "python",
   "nbconvert_exporter": "python",
   "pygments_lexer": "ipython3",
   "version": "3.6.2"
  }
 },
 "nbformat": 4,
 "nbformat_minor": 2
}
